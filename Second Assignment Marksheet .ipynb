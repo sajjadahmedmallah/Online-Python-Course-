{
 "cells": [
  {
   "cell_type": "code",
   "execution_count": 25,
   "metadata": {},
   "outputs": [
    {
     "name": "stdout",
     "output_type": "stream",
     "text": [
      "2nd Assignment By Sajjad Ahmed\n",
      "Roll Number = JP14021\n",
      "Total Marks= 300\n",
      "Obtained Marks= 200\n",
      "Percentage= 66.66666666666666\n",
      "Grade B\n"
     ]
    }
   ],
   "source": [
    "\n",
    "print(\"2nd Assignment By Sajjad Ahmed\")\n",
    "\n",
    "print(\"Roll Number = JP14021\")\n",
    "\n",
    "\n",
    "eng=40;\n",
    "isl=70;\n",
    "maths=90;\n",
    "total_marks=300;\n",
    "print(\"Total Marks=\",total_marks)\n",
    "obt_marks=eng+isl+maths;\n",
    "print(\"Obtained Marks=\",obt_marks)\n",
    "\n",
    "c= obt_marks/total_marks;\n",
    "\n",
    "percen=c*100;\n",
    "print(\"Percentage=\",percen)\n",
    "\n",
    "if percen>=80 and percen<=100:\n",
    "    print (\"Grade A+\")\n",
    "elif percen>=70 and percen<=80:\n",
    "    print (\"Grade A\")\n",
    "elif percen>=60 and percen<=70:\n",
    "    print (\"Grade B\")\n",
    "elif percen>=50 and percen<=60:\n",
    "    print (\"Grade C\")\n",
    "elif percen>=40 and percen<=50:\n",
    "    print (\"Grade D\")\n",
    "elif percen>=33 and percen<=40:\n",
    "    print (\"Grade E\")\n",
    "elif percen>=0 and percen<=33:\n",
    "    print (\"Fail\")\n",
    "elif percen<0:\n",
    "    print (\"Numbers must be b/w 0 to 100 \")\n",
    "else:\n",
    "    print (\"Invalid Number\")\n",
    "\n",
    "\n"
   ]
  },
  {
   "cell_type": "code",
   "execution_count": null,
   "metadata": {},
   "outputs": [],
   "source": []
  }
 ],
 "metadata": {
  "kernelspec": {
   "display_name": "Python 3",
   "language": "python",
   "name": "python3"
  },
  "language_info": {
   "codemirror_mode": {
    "name": "ipython",
    "version": 3
   },
   "file_extension": ".py",
   "mimetype": "text/x-python",
   "name": "python",
   "nbconvert_exporter": "python",
   "pygments_lexer": "ipython3",
   "version": "3.7.4"
  }
 },
 "nbformat": 4,
 "nbformat_minor": 2
}
