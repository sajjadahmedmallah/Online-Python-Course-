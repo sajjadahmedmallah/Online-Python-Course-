{
 "cells": [
  {
   "cell_type": "markdown",
   "metadata": {},
   "source": [
    "## <font color='#eb3483'> Assignment No # 03 By Sajjad Ahmed  </font>"
   ]
  },
  {
   "cell_type": "markdown",
   "metadata": {},
   "source": [
    "# 1. Write a Python program to print the following string in a specific format (see the output)."
   ]
  },
  {
   "cell_type": "code",
   "execution_count": 6,
   "metadata": {},
   "outputs": [
    {
     "name": "stdout",
     "output_type": "stream",
     "text": [
      "Twinkle, twinkle, little star, \n",
      "\tHow I wonder what you are! \n",
      "\t\tUp above the world so high, \n",
      "\t\tLike a diamond in the sky. \n",
      "Twinkle, twinkle, little star, \n",
      "\tHow I wonder what you are!\n"
     ]
    }
   ],
   "source": [
    "print(\"Twinkle, twinkle, little star, \\n\\tHow I wonder what you are! \\n\\t\\tUp above the world so high, \\n\\t\\tLike a diamond in the sky. \\nTwinkle, twinkle, little star, \\n\\tHow I wonder what you are!\")\n",
    "\n"
   ]
  },
  {
   "cell_type": "markdown",
   "metadata": {},
   "source": [
    "# 2. Write a Python program to get the Python version you are using"
   ]
  },
  {
   "cell_type": "code",
   "execution_count": 7,
   "metadata": {},
   "outputs": [
    {
     "name": "stdout",
     "output_type": "stream",
     "text": [
      "Python version\n",
      "3.7.4 (default, Aug  9 2019, 18:34:13) [MSC v.1915 64 bit (AMD64)]\n"
     ]
    }
   ],
   "source": [
    "import sys\n",
    "print(\"Python version\")\n",
    "print (sys.version)\n"
   ]
  },
  {
   "cell_type": "markdown",
   "metadata": {},
   "source": [
    "# 3. Write a Python program to display the current date and time."
   ]
  },
  {
   "cell_type": "code",
   "execution_count": 10,
   "metadata": {},
   "outputs": [
    {
     "name": "stdout",
     "output_type": "stream",
     "text": [
      "21-10-2021 22:03:24\n",
      "21-10-2021 10:03:24\n"
     ]
    }
   ],
   "source": [
    "from datetime import datetime #Importing Date and Time Library \n",
    "\n",
    "current_now = datetime.now() \n",
    "\n",
    "print(current_now.strftime('%d-%m-%Y %H:%M:%S')) #24-hour format\n",
    "print(current_now.strftime('%d-%m-%Y %I:%M:%S')) #12-hour format"
   ]
  },
  {
   "cell_type": "markdown",
   "metadata": {},
   "source": [
    "# 4. Write a Python program which accepts the radius of a circle from the user and compute the area."
   ]
  },
  {
   "cell_type": "code",
   "execution_count": 17,
   "metadata": {},
   "outputs": [
    {
     "name": "stdout",
     "output_type": "stream",
     "text": [
      "Enter the radius of a circle in m:2\n",
      "Area of circle is 12.56 in Meters\n"
     ]
    }
   ],
   "source": [
    "r= int(input(\"Enter the radius of a circle in m:\"));\n",
    "area_of_circle= 3.14*r*r                              # 3.14 is the value of Pi \n",
    "print(\"Area of circle is\",area_of_circle,\"in Meters\");"
   ]
  },
  {
   "cell_type": "markdown",
   "metadata": {},
   "source": [
    "# 5. Write a Python program which accepts the user's first and last name and print them in reverse order with a space between them."
   ]
  },
  {
   "cell_type": "code",
   "execution_count": 4,
   "metadata": {},
   "outputs": [
    {
     "name": "stdout",
     "output_type": "stream",
     "text": [
      "Enter Your First Name:Sajjad \n",
      "Enter Your Last Name:Ahmed \n",
      " demhA dajjaS\n"
     ]
    }
   ],
   "source": [
    "f= (input(\"Enter Your First Name:\"));\n",
    "l= (input(\"Enter Your Last Name:\"));\n",
    "f_l= (f + l) [::-1]\n",
    "print(f_l) \n"
   ]
  },
  {
   "cell_type": "markdown",
   "metadata": {},
   "source": [
    "# 6. Write a python program which takes two inputs from user and print them addition"
   ]
  },
  {
   "cell_type": "code",
   "execution_count": 9,
   "metadata": {},
   "outputs": [
    {
     "name": "stdout",
     "output_type": "stream",
     "text": [
      "Enter Your Age 24\n",
      "Enter Your GPA 3.14\n",
      "27.14\n"
     ]
    }
   ],
   "source": [
    "a= int(input(\"Enter Your Age \"));\n",
    "b= float(input(\"Enter Your GPA \"));\n",
    "c= a+b;\n",
    "print(c)"
   ]
  },
  {
   "cell_type": "markdown",
   "metadata": {},
   "source": [
    "# 7. Write a program which takes 5 inputs from user for different subject’s marks, total it and generate mark sheet using grades ?"
   ]
  },
  {
   "cell_type": "code",
   "execution_count": 10,
   "metadata": {},
   "outputs": [
    {
     "name": "stdout",
     "output_type": "stream",
     "text": [
      "Enter the English Marks 56\n",
      "Enter the Maths Marks 50\n",
      "Enter the Science Marks 67\n",
      "Enter the Islamiat Marks 70\n",
      "Enter the Chemistry Marks 60\n",
      "Total Marks= 500\n",
      "Obtained Marks= 303\n",
      "Percentage= 60.6\n",
      "Grade B\n"
     ]
    }
   ],
   "source": [
    "e= int(input(\"Enter the English Marks \"));\n",
    "m= int(input(\"Enter the Maths Marks \"));\n",
    "s= int(input(\"Enter the Science Marks \"));\n",
    "i= int(input(\"Enter the Islamiat Marks \"));\n",
    "c= int(input(\"Enter the Chemistry Marks \"));\n",
    "\n",
    "total_marks=500;\n",
    "print(\"Total Marks=\",total_marks)\n",
    "obt_marks=e+m+s+i+c;\n",
    "print(\"Obtained Marks=\",obt_marks)\n",
    "\n",
    "ct= obt_marks/total_marks;\n",
    "\n",
    "percen=ct*100;\n",
    "print(\"Percentage=\",percen)\n",
    "\n",
    "if percen>=80 and percen<=100:\n",
    "    print (\"Grade A+\")\n",
    "elif percen>=70 and percen<=80:\n",
    "    print (\"Grade A\")\n",
    "elif percen>=60 and percen<=70:\n",
    "    print (\"Grade B\")\n",
    "elif percen>=50 and percen<=60:\n",
    "    print (\"Grade C\")\n",
    "elif percen>=40 and percen<=50:\n",
    "    print (\"Grade D\")\n",
    "elif percen>=33 and percen<=40:\n",
    "    print (\"Grade E\")\n",
    "elif percen>=0 and percen<=33:\n",
    "    print (\"Fail\")\n",
    "elif percen<0:\n",
    "    print (\"Numbers must be b/w 0 to 100 \")\n",
    "else:\n",
    "    print (\"Invalid Number\")\n"
   ]
  },
  {
   "cell_type": "markdown",
   "metadata": {},
   "source": [
    "# 8. Write a program which take input from user and identify that the given number is even or odd?"
   ]
  },
  {
   "cell_type": "code",
   "execution_count": 14,
   "metadata": {},
   "outputs": [
    {
     "name": "stdout",
     "output_type": "stream",
     "text": [
      "Enter a number: 2323\n",
      "2323 is Odd number\n"
     ]
    }
   ],
   "source": [
    "num = int(input(\"Enter a number: \"))\n",
    "if (num % 2) == 0:\n",
    "    print(\"{0} is Even number\".format(num))\n",
    "else:\n",
    "    print(\"{0} is Odd number\".format(num))"
   ]
  },
  {
   "cell_type": "markdown",
   "metadata": {},
   "source": [
    "# 9. Write a program which print the length of the list?"
   ]
  },
  {
   "cell_type": "code",
   "execution_count": 22,
   "metadata": {},
   "outputs": [
    {
     "data": {
      "text/plain": [
       "3"
      ]
     },
     "execution_count": 22,
     "metadata": {},
     "output_type": "execute_result"
    }
   ],
   "source": [
    "l= [33,32,23]\n",
    "len(l)"
   ]
  },
  {
   "cell_type": "markdown",
   "metadata": {},
   "source": [
    "# 10.Write a Python program to sum all the numeric items in a list?"
   ]
  },
  {
   "cell_type": "code",
   "execution_count": 23,
   "metadata": {},
   "outputs": [
    {
     "data": {
      "text/plain": [
       "2717"
      ]
     },
     "execution_count": 23,
     "metadata": {},
     "output_type": "execute_result"
    }
   ],
   "source": [
    "ls=[33,32,23,33,32,23,33,32,2333,32,23,33,32,23]\n",
    "sum(ls)\n"
   ]
  },
  {
   "cell_type": "markdown",
   "metadata": {},
   "source": [
    "# 11.Write a Python program to get the largest number from a numeric list."
   ]
  },
  {
   "cell_type": "code",
   "execution_count": 26,
   "metadata": {},
   "outputs": [
    {
     "name": "stdout",
     "output_type": "stream",
     "text": [
      "Largest element is: 2333\n"
     ]
    }
   ],
   "source": [
    "ls=[33,32,23,33,32,23,33,32,2333,32,23,33,32,23]\n",
    "print(\"Largest number is:\", max(ls))\n"
   ]
  },
  {
   "cell_type": "markdown",
   "metadata": {},
   "source": [
    "# 12. Take a list, say for example this one: a = [1, 1, 2, 3, 5, 8, 13, 21, 34, 55, 89] Write a program that prints out all the elements of the list that are less than 5."
   ]
  },
  {
   "cell_type": "code",
   "execution_count": 35,
   "metadata": {},
   "outputs": [
    {
     "name": "stdout",
     "output_type": "stream",
     "text": [
      "1\n",
      "1\n",
      "2\n",
      "3\n"
     ]
    }
   ],
   "source": [
    "a=[1, 1, 2, 3, 5, 8, 13, 21, 34, 55, 89]\n",
    "for item in a:\n",
    "    if item<5:\n",
    "        print(item)"
   ]
  },
  {
   "cell_type": "code",
   "execution_count": null,
   "metadata": {},
   "outputs": [],
   "source": []
  }
 ],
 "metadata": {
  "kernelspec": {
   "display_name": "Python 3",
   "language": "python",
   "name": "python3"
  },
  "language_info": {
   "codemirror_mode": {
    "name": "ipython",
    "version": 3
   },
   "file_extension": ".py",
   "mimetype": "text/x-python",
   "name": "python",
   "nbconvert_exporter": "python",
   "pygments_lexer": "ipython3",
   "version": "3.7.4"
  }
 },
 "nbformat": 4,
 "nbformat_minor": 2
}
